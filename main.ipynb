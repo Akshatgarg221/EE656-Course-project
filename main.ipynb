{
 "cells": [
  {
   "cell_type": "markdown",
   "metadata": {},
   "source": [
    "### IMPORTING LIBRARIES\n"
   ]
  },
  {
   "cell_type": "code",
   "execution_count": 2,
   "metadata": {},
   "outputs": [],
   "source": [
    "import os\n",
    "import glob\n",
    "import warnings\n",
    "import numpy as np\n",
    "import pandas as pd\n",
    "import matplotlib.pyplot as plt\n",
    "import seaborn as sns\n",
    "\n",
    "from itertools import combinations\n",
    "from scipy.signal import firwin, butter, filtfilt, fftconvolve\n",
    "from scipy.fftpack import fft\n",
    "from scipy.stats import kurtosis, skew\n",
    "import pywt\n",
    "\n",
    "from sklearn.decomposition import PCA\n",
    "from sklearn.datasets import load_iris\n",
    "from sklearn.feature_selection import mutual_info_classif, mutual_info_regression\n",
    "from sklearn.model_selection import train_test_split, GridSearchCV\n",
    "from sklearn.svm import SVC\n",
    "from sklearn import svm\n",
    "from sklearn.multiclass import OneVsRestClassifier, OneVsOneClassifier\n",
    "from sklearn.metrics import accuracy_score, classification_report, confusion_matrix\n"
   ]
  },
  {
   "cell_type": "markdown",
   "metadata": {},
   "source": [
    "### IMPORTING DATA"
   ]
  },
  {
   "cell_type": "code",
   "execution_count": 3,
   "metadata": {},
   "outputs": [
    {
     "name": "stdout",
     "output_type": "stream",
     "text": [
      "\n",
      "Loaded 1800 total files.\n"
     ]
    }
   ],
   "source": [
    "# Setup\n",
    "labels = ['Bearing', 'Flywheel', 'Healthy', 'LIV', 'LOV', 'NRV', 'Piston', 'Riderbelt']\n",
    "Faults = {label: idx for idx, label in enumerate(labels)}\n",
    "MaxExpNo = 225\n",
    "\n",
    "# Base path to dataset\n",
    "base_path = os.path.expanduser('~/Downloads/AirCompressor_Data')\n",
    "\n",
    "# Raw data store\n",
    "raw_data = []  # list of dicts: [{'signal': ndarray, 'label': str, 'fault': int}, ...]\n",
    "\n",
    "for label in labels:\n",
    "    path = os.path.join(base_path, label, 'preprocess_Reading*.dat')\n",
    "    files = sorted(glob.glob(path))\n",
    "    \n",
    "    if not files:\n",
    "        print(f\"No files found for label: {label}\")\n",
    "        continue\n",
    "\n",
    "    for file in files:\n",
    "        try:\n",
    "            signal = np.loadtxt(file, delimiter=',')\n",
    "            raw_data.append({\n",
    "                'signal': signal,\n",
    "                'label': label,\n",
    "                'fault': Faults[label]\n",
    "            })\n",
    "        except Exception as e:\n",
    "            print(f\"Error loading {file}: {e}\")\n",
    "\n",
    "print(f\"\\nLoaded {len(raw_data)} total files.\")\n"
   ]
  },
  {
   "cell_type": "markdown",
   "metadata": {},
   "source": [
    "Filtering signal"
   ]
  },
  {
   "cell_type": "code",
   "execution_count": 4,
   "metadata": {},
   "outputs": [],
   "source": [
    "def filter_signal(signal, Fs):\n",
    "    \"\"\"\n",
    "    Apply fan high-pass FIR filter (400 Hz) and low-pass Butterworth (12 kHz)\n",
    "    on the raw acoustic signal.\n",
    "    \n",
    "    Parameters:\n",
    "        signal (np.ndarray): Raw time-domain signal.\n",
    "        Fs (int): Sampling frequency in Hz.\n",
    "    \n",
    "    Returns:\n",
    "        np.ndarray: Filtered signal\n",
    "    \"\"\"\n",
    "    # ---- High-pass FIR (Fan Filter) ----\n",
    "    cutoff_hp = 400  # 400 Hz fan noise removal\n",
    "    nyq = Fs / 2\n",
    "    fir_order = 101  # you can tune this\n",
    "    hp_fir_coeffs = firwin(fir_order, cutoff_hp / nyq, pass_zero=False)\n",
    "    signal_hp = filtfilt(hp_fir_coeffs, [1.0], signal)\n",
    "\n",
    "    # ---- Low-pass Butterworth (Anti-noise Filter) ----\n",
    "    cutoff_lp = 12000  # 12 kHz noise threshold\n",
    "    b_lp, a_lp = butter(N=18, Wn=cutoff_lp / nyq, btype='low')\n",
    "    signal_filtered = filtfilt(b_lp, a_lp, signal_hp)\n",
    "\n",
    "    return signal_filtered\n",
    "\n"
   ]
  },
  {
   "cell_type": "code",
   "execution_count": 5,
   "metadata": {},
   "outputs": [],
   "source": [
    "def clip_signal_by_std(signal, Fs):\n",
    "    \"\"\"\n",
    "    Clip a 5-second signal into 9 overlapping 1-second segments with 50% overlap,\n",
    "    and return the segment with the minimum standard deviation.\n",
    "    \n",
    "    Parameters:\n",
    "        signal (np.ndarray): Full input signal (should be ~5 sec long)\n",
    "        Fs (int): Sampling frequency in Hz\n",
    "\n",
    "    Returns:\n",
    "        np.ndarray: 1-second clipped segment with minimum standard deviation\n",
    "    \"\"\"\n",
    "    segment_length = Fs  # 1 second = Fs samples\n",
    "    stride = Fs // 2      # 50% overlap = 0.5 sec stride\n",
    "    total_segments = 9\n",
    "\n",
    "    min_std = float('inf')\n",
    "    best_segment = None\n",
    "\n",
    "    for i in range(total_segments):\n",
    "        start = i * stride\n",
    "        end = start + segment_length\n",
    "\n",
    "        if end > len(signal):\n",
    "            break  # avoid out-of-bound\n",
    "\n",
    "        segment = signal[start:end]\n",
    "        std = np.std(segment)\n",
    "\n",
    "        if std < min_std:\n",
    "            min_std = std\n",
    "            best_segment = segment\n",
    "\n",
    "    return best_segment"
   ]
  },
  {
   "cell_type": "code",
   "execution_count": 6,
   "metadata": {},
   "outputs": [],
   "source": [
    "def smooth_signal_moving_average(signal, window_size=5):\n",
    "    \"\"\"\n",
    "    Apply a moving average filter to smooth the signal.\n",
    "    \n",
    "    Parameters:\n",
    "        signal (np.ndarray): Input 1D signal\n",
    "        window_size (int): Half-window size on each side (total window = 2*window_size + 1)\n",
    "        \n",
    "    Returns:\n",
    "        np.ndarray: Smoothed signal\n",
    "    \"\"\"\n",
    "    kernel_size = 2 * window_size + 1\n",
    "    kernel = np.ones(kernel_size) / kernel_size\n",
    "    smoothed = np.convolve(signal, kernel, mode='same')  # Keep output length same\n",
    "    return smoothed\n"
   ]
  },
  {
   "cell_type": "code",
   "execution_count": 7,
   "metadata": {},
   "outputs": [],
   "source": [
    "def modified_minmax_normalization(signal, num_bins=10000, rejection_percent=0.00025):\n",
    "    \"\"\"\n",
    "    Apply modified Min-Max normalization as described in the paper.\n",
    "    Ignores top/bottom 0.025% of values while computing min/max.\n",
    "    \n",
    "    Parameters:\n",
    "        signal (np.ndarray): Input 1D signal\n",
    "        num_bins (int): Number of histogram bins (default: 10,000)\n",
    "        rejection_percent (float): Fraction of data to reject from both ends (default: 0.025%)\n",
    "        \n",
    "    Returns:\n",
    "        np.ndarray: Normalized signal between 0 and 1\n",
    "    \"\"\"\n",
    "\n",
    "    N = len(signal)\n",
    "    total_reject = int(rejection_percent * N)\n",
    "\n",
    "    # Build histogram\n",
    "    hist_counts, bin_edges = np.histogram(signal, bins=num_bins)\n",
    "    bin_centers = (bin_edges[:-1] + bin_edges[1:]) / 2\n",
    "\n",
    "    # Cumulative count\n",
    "    cum_counts = np.cumsum(hist_counts)\n",
    "\n",
    "    # Find mod_min: first bin index after rejecting lower values\n",
    "    lower_idx = np.searchsorted(cum_counts, total_reject)\n",
    "    mod_min = bin_centers[lower_idx]\n",
    "\n",
    "    # Find mod_max: first bin index from top after rejecting upper values\n",
    "    upper_idx = np.searchsorted(cum_counts, N - total_reject)\n",
    "    mod_max = bin_centers[upper_idx]\n",
    "\n",
    "    # Apply modified Min-Max normalization\n",
    "    clipped = np.clip(signal, mod_min, mod_max)\n",
    "    normalized = (clipped - mod_min) / (mod_max - mod_min)\n",
    "\n",
    "    return normalized"
   ]
  },
  {
   "cell_type": "code",
   "execution_count": 8,
   "metadata": {},
   "outputs": [],
   "source": [
    "for entry in raw_data:\n",
    "    Fs = 48000\n",
    "    entry['original_signal'] = entry['signal'].copy()  # store raw\n",
    "\n",
    "    signal = entry['signal']\n",
    "    signal = filter_signal(signal, Fs)                             # Step A\n",
    "    signal = clip_signal_by_std(signal, Fs)                        # Step B\n",
    "    signal = smooth_signal_moving_average(signal, window_size=5)  # Step C\n",
    "    signal = modified_minmax_normalization(signal)                # Step D\n",
    "\n",
    "    entry['signal'] = signal  # store preprocessed\n"
   ]
  },
  {
   "cell_type": "code",
   "execution_count": 9,
   "metadata": {},
   "outputs": [
    {
     "data": {
      "image/png": "[encoded data removed]",
      "text/plain": [
       "<Figure size 1400x600 with 2 Axes>"
      ]
     },
     "metadata": {},
     "output_type": "display_data"
    }
   ],
   "source": [
    "idx = 0  # or any valid index\n",
    "raw = raw_data[idx]['original_signal']\n",
    "processed = raw_data[idx]['signal']\n",
    "Fs = 48000\n",
    "\n",
    "t_raw = np.arange(len(raw)) / Fs\n",
    "t_proc = np.arange(len(processed)) / Fs\n",
    "\n",
    "plt.figure(figsize=(14, 6))\n",
    "\n",
    "plt.subplot(2, 1, 1)\n",
    "plt.plot(t_raw, raw, color='red')\n",
    "plt.title('Raw Signal')\n",
    "plt.xlabel('Time (s)')\n",
    "plt.ylabel('Amplitude')\n",
    "plt.grid(True)\n",
    "\n",
    "plt.subplot(2, 1, 2)\n",
    "plt.plot(t_proc, processed, color='green')\n",
    "plt.title('Preprocessed Signal')\n",
    "plt.xlabel('Time (s)')\n",
    "plt.ylabel('Amplitude')\n",
    "plt.grid(True)\n",
    "\n",
    "plt.tight_layout()\n",
    "plt.show()\n"
   ]
  },
  {
   "cell_type": "markdown",
   "metadata": {},
   "source": [
    "FEATURE EXTRACTION"
   ]
  },
  {
   "cell_type": "markdown",
   "metadata": {},
   "source": [
    "## Feature Extraction\n"
   ]
  },
  {
   "cell_type": "markdown",
   "metadata": {},
   "source": [
    "#### Time-Domain Features (8)"
   ]
  },
  {
   "cell_type": "code",
   "execution_count": 10,
   "metadata": {},
   "outputs": [],
   "source": [
    "\n",
    "# --- Feature Extraction Functions ---\n",
    "\n",
    "def PrimaryFeatureExtractor(X):\n",
    "    rms = np.sqrt(np.mean(np.square(X)))\n",
    "    CrestFactor = np.abs(X).max() / rms\n",
    "    ShapeFactor = rms / np.mean(np.abs(X))\n",
    "    return [\n",
    "        np.mean(np.abs(X)),\n",
    "        np.min(X),\n",
    "        np.max(X),\n",
    "        np.std(X),\n",
    "        rms,\n",
    "        skew(X),\n",
    "        kurtosis(X),\n",
    "        CrestFactor\n",
    "    ]\n"
   ]
  },
  {
   "cell_type": "markdown",
   "metadata": {},
   "source": [
    "#### Frequency-Domain (8 bins)"
   ]
  },
  {
   "cell_type": "code",
   "execution_count": 11,
   "metadata": {},
   "outputs": [],
   "source": [
    "def FFT_BasedFeatures(X, NBins=8):\n",
    "    \"\"\"\n",
    "    Extracts normalized spectral energy features from signal using FFT.\n",
    "    Returns NBins features and their corresponding labels.\n",
    "    \"\"\"\n",
    "    N = len(X)\n",
    "    X_fft = fft(X)\n",
    "    X_fft[0] = 0  # Remove DC component\n",
    "    X_fft_magnitude = 2.0 / N * np.abs(X_fft[:N // 2])  # One-sided magnitude spectrum\n",
    "\n",
    "    bin_size = len(X_fft_magnitude) // NBins\n",
    "    SpecEnergy = [\n",
    "        X_fft_magnitude[i * bin_size:(i + 1) * bin_size].sum()\n",
    "        for i in range(NBins)\n",
    "    ]\n",
    "\n",
    "    total_energy = sum(SpecEnergy)\n",
    "    normalized_features = [e / total_energy for e in SpecEnergy]  # Normalize energy\n",
    "\n",
    "    return normalized_features, [f'FFT{i+1}' for i in range(NBins)]\n"
   ]
  },
  {
   "cell_type": "markdown",
   "metadata": {},
   "source": [
    "#### Morlet Wavelet Transform (MWT – 7 features)"
   ]
  },
  {
   "cell_type": "code",
   "execution_count": 12,
   "metadata": {},
   "outputs": [],
   "source": [
    "def morlet_wavelet(length, w=5.0):\n",
    "    # Generate a real-valued Morlet wavelet\n",
    "    x = np.linspace(-np.pi, np.pi, length)\n",
    "    wave = np.exp(1j * w * x) * np.exp(-0.5 * x**2)\n",
    "    return wave.real\n",
    "\n",
    "def extract_mwt_features(X):\n",
    "    widths = np.arange(1, 31)  # Range of wavelet scales\n",
    "    wavelets = [morlet_wavelet(len(X), w) for w in widths]\n",
    "    wavelet_matrix = np.array([fftconvolve(X, w, mode='same') for w in wavelets])\n",
    "\n",
    "    energy = np.sum(np.abs(wavelet_matrix) ** 2, axis=1)\n",
    "    prob = energy / (np.sum(energy) + 1e-12)  # Normalize energy to form a probability distribution\n",
    "\n",
    "    return [\n",
    "        -np.sum(prob * np.log2(prob + 1e-12)),                # Wavelet entropy\n",
    "        np.sum(np.max(wavelet_matrix, axis=1)),               # Sum of peaks across scales\n",
    "        np.std(wavelet_matrix),                               # Standard deviation\n",
    "        kurtosis(wavelet_matrix.flatten()),                   # Kurtosis of coefficients\n",
    "        np.mean(np.diff(np.sign(wavelet_matrix)) != 0),       # Zero crossing rate\n",
    "        np.var(wavelet_matrix),                               # Variance\n",
    "        skew(wavelet_matrix.flatten())                        # Skewness\n",
    "    ]\n"
   ]
  },
  {
   "cell_type": "markdown",
   "metadata": {},
   "source": [
    "#### Discrete Wavelet Transform (DWT – 9 features)"
   ]
  },
  {
   "cell_type": "code",
   "execution_count": 13,
   "metadata": {},
   "outputs": [],
   "source": [
    "def extract_dwt_features(X):\n",
    "    # Perform 6-level DWT using Daubechies 4 wavelet\n",
    "    coeffs = pywt.wavedec(X, 'db4', level=6)\n",
    "    details = coeffs[1:]  # Skip approximation coefficients\n",
    "\n",
    "    var_features = [np.var(d) for d in details[:3]]  # Variance of first 3 detail levels\n",
    "    autocorr_var = [np.var(np.correlate(d, d, mode='full')) for d in details[3:6]]  # Autocorr variance of next 3\n",
    "    smoothed_mean = [np.mean(pd.Series(d).rolling(5, min_periods=1).mean()) for d in details[:3]]  # Smoothed mean\n",
    "\n",
    "    return var_features + autocorr_var + smoothed_mean\n"
   ]
  },
  {
   "cell_type": "markdown",
   "metadata": {},
   "source": [
    "#### Wavelet Packet Transform (WPT – 254 features)"
   ]
  },
  {
   "cell_type": "code",
   "execution_count": 14,
   "metadata": {},
   "outputs": [],
   "source": [
    "def extract_wpt_features(X):\n",
    "    # Perform 7-level Wavelet Packet Transform using Daubechies 4 wavelet\n",
    "    wp = pywt.WaveletPacket(data=X, wavelet='db4', mode='symmetric', maxlevel=7)\n",
    "    nodes = wp.get_level(7, order='freq')  # Get all nodes at level 7 in frequency order\n",
    "\n",
    "    energies = [np.sum(np.square(n.data)) for n in nodes]  # Energy of each node\n",
    "    if len(energies) < 254:\n",
    "        energies += [0] * (254 - len(energies))  # Zero-padding if fewer than 254 nodes\n",
    "\n",
    "    return energies[:254]  # Return fixed-length feature vector\n"
   ]
  },
  {
   "cell_type": "markdown",
   "metadata": {},
   "source": [
    "#### Combines All Features extracted\n"
   ]
  },
  {
   "cell_type": "code",
   "execution_count": 15,
   "metadata": {},
   "outputs": [],
   "source": [
    "def extract_all_features(signal):\n",
    "    stat = PrimaryFeatureExtractor(signal)                 # 8\n",
    "    fft_feats, _ = FFT_BasedFeatures(signal)               # 8\n",
    "    mwt = extract_mwt_features(signal)                     # 7\n",
    "    dwt = extract_dwt_features(signal)                     # 9\n",
    "    wpt = extract_wpt_features(signal)                     # 254\n",
    "    return stat + fft_feats + mwt + dwt + wpt\n"
   ]
  },
  {
   "cell_type": "markdown",
   "metadata": {},
   "source": [
    "#### Extracting all 286 features for 1800+ acoustic data samples\n",
    "\n",
    "This process takes **more than 1 hour** to extract features.  \n",
    "Skip this cell and use the already extracted feature data:  \n",
    "**`input_data.csv`** and **`target_data.csv`**.\n"
   ]
  },
  {
   "cell_type": "code",
   "execution_count": null,
   "metadata": {},
   "outputs": [],
   "source": [
    "feature_rows = []\n",
    "\n",
    "for idx, entry in enumerate(raw_data):\n",
    "    try:\n",
    "        signal = entry['signal']\n",
    "        fault = entry['fault']\n",
    "        features = extract_all_features(signal)  # Extract full feature vector\n",
    "        feature_rows.append(features + [fault])  # Append features with label\n",
    "\n",
    "        if idx % 10 == 0:\n",
    "            print(f\"Processed {idx}/{len(raw_data)}\")  # Progress logging\n",
    "    except Exception as e:\n",
    "        print(f\"Error at index {idx}: {e}\")  # Catch and report errors gracefully\n"
   ]
  },
  {
   "cell_type": "markdown",
   "metadata": {},
   "source": [
    "#### Construct DataFrame"
   ]
  },
  {
   "cell_type": "code",
   "execution_count": 17,
   "metadata": {},
   "outputs": [
    {
     "name": "stdout",
     "output_type": "stream",
     "text": [
      "Feature extraction complete.\n",
      "input_data shape: (2, 286)\n",
      "target_data shape: (2, 1)\n"
     ]
    }
   ],
   "source": [
    "# Define labels for each feature group\n",
    "stat_labels = ['Mean', 'Min', 'Max', 'Std', 'RMS', 'Skewness', 'Kurtosis', 'CrestFactor']\n",
    "fft_labels = [f'FFT{i+1}' for i in range(8)]\n",
    "mwt_labels = ['MWT_Entropy', 'MWT_SumPeaks', 'MWT_Std', 'MWT_Kurtosis', 'MWT_ZCR', 'MWT_Variance', 'MWT_Skewness']\n",
    "dwt_labels = [f'DWT_Var_D{i+1}' for i in range(3)] + \\\n",
    "             [f'DWT_AutoVar_D{i+4}' for i in range(3)] + \\\n",
    "             [f'DWT_SmoothedMean_D{i+1}' for i in range(3)]\n",
    "wpt_labels = [f'WPT_Node{i+1}' for i in range(254)]\n",
    "\n",
    "# Combine all feature labels plus the target column\n",
    "all_columns = stat_labels + fft_labels + mwt_labels + dwt_labels + wpt_labels + ['Fault']\n",
    "\n",
    "# Create a DataFrame from extracted features\n",
    "data = pd.DataFrame(feature_rows, columns=all_columns)\n",
    "\n",
    "# Split into input features and target label\n",
    "input_data = data.drop(columns=['Fault'])\n",
    "target_data = data[['Fault']].astype(int)\n",
    "\n",
    "# Save processed data to CSV\n",
    "print(\"Feature extraction complete.\")\n",
    "print(f\"input_data shape: {input_data.shape}\")\n",
    "print(f\"target_data shape: {target_data.shape}\")\n",
    "input_data.to_csv('input_data.csv', index=False)\n",
    "target_data.to_csv('target_data.csv', index=False)"
   ]
  },
  {
   "cell_type": "code",
   "execution_count": null,
   "metadata": {},
   "outputs": [],
   "source": [
    "#reading from INPUT DATA.CSV\n",
    "input_data = pd.read_csv(\"/Users/krishnagarg/EE656-Course-project-4/input_data.csv\")\n",
    "target_data =  pd.read_csv(\"/Users/krishnagarg/EE656-Course-project-4/target_data.csv\") \n",
    "print(\"Feature extraction complete.\")\n",
    "print(f\"input_data shape: {input_data.shape}\")\n",
    "print(f\"target_data shape: {target_data.shape}\")\n",
    "input_data.to_csv('input_data.csv', index=False)\n",
    "target_data.to_csv('target_data.csv', index=False)"
   ]
  },
  {
   "cell_type": "code",
   "execution_count": null,
   "metadata": {},
   "outputs": [
    {
     "name": "stdout",
     "output_type": "stream",
     "text": [
      "PCA reduced shape: (1800, 2)\n"
     ]
    }
   ],
   "source": [
    "class PCA_Selector:\n",
    "    \"\"\"\n",
    "    Wrapper class for PCA-based dimensionality reduction.\n",
    "    \"\"\"\n",
    "    def __init__(self, n_components=None):\n",
    "        self.n_components = n_components\n",
    "        self.pca = PCA(n_components=n_components)\n",
    "\n",
    "    def fit(self, X, y=None):\n",
    "        self.pca.fit(X)\n",
    "        return self\n",
    "\n",
    "    def transform(self, X):\n",
    "        return self.pca.transform(X)\n",
    "\n",
    "    def fit_transform(self, X, y=None):\n",
    "        return self.pca.fit_transform(X)\n",
    "\n",
    "# Example usage\n",
    "\n",
    "y = target_data['Fault'].values.astype(int)  # Target labels\n",
    "X = input_data.values                         # Feature matrix\n",
    "\n",
    "pca_selector = PCA_Selector(n_components=2)\n",
    "X_pca = pca_selector.fit_transform(X)         # Reduce features to 2 dimensions\n",
    "\n",
    "print(\"PCA reduced shape:\", X_pca.shape)\n"
   ]
  },
  {
   "cell_type": "code",
   "execution_count": null,
   "metadata": {},
   "outputs": [
    {
     "name": "stdout",
     "output_type": "stream",
     "text": [
      "Selected features: [10, 98, 129, 39, 22, 247, 215, 233, 212, 29]\n"
     ]
    }
   ],
   "source": [
    "class MIFS_Selector:\n",
    "    def __init__(self, n_features_to_select, beta=0.5, problem_type='classification'):\n",
    "        self.n_features_to_select = n_features_to_select\n",
    "        self.beta = beta\n",
    "        self.problem_type = problem_type\n",
    "        self.selected_features = []\n",
    "\n",
    "    def fit(self, X, y):\n",
    "        n_samples, n_features = X.shape\n",
    "\n",
    "        # Calculate mutual information between each feature and target\n",
    "        if self.problem_type == 'classification':\n",
    "            mi_fc = mutual_info_classif(X, y)\n",
    "        else:\n",
    "            mi_fc = mutual_info_regression(X, y)\n",
    "\n",
    "        # Initialize selected features with the one having max MI with target\n",
    "        selected = [int(np.argmax(mi_fc))]\n",
    "        remaining = [i for i in range(n_features) if i not in selected]\n",
    "\n",
    "        while len(selected) < self.n_features_to_select:\n",
    "            redundancy = np.zeros(len(remaining), dtype=float)\n",
    "\n",
    "            for i, feat in enumerate(remaining):\n",
    "                mi_fs = 0.0\n",
    "                for s in selected:\n",
    "                    # Compute MI between continuous features (regression)\n",
    "                    mi_arr = mutual_info_regression(\n",
    "                        X[:, feat].reshape(-1, 1),\n",
    "                        X[:, s]\n",
    "                    )\n",
    "                    # mutual_info_regression returns an array of length 1\n",
    "                    mi_fs += float(mi_arr[0])\n",
    "\n",
    "                # MIFS criterion: relevance minus redundancy\n",
    "                redundancy[i] = mi_fc[feat] - self.beta * mi_fs\n",
    "\n",
    "            # Select feature with maximum criterion value\n",
    "            next_feat = remaining[int(np.argmax(redundancy))]\n",
    "            selected.append(next_feat)\n",
    "            remaining.remove(next_feat)\n",
    "\n",
    "        self.selected_features = selected\n",
    "        return self\n",
    "\n",
    "    def transform(self, X):\n",
    "        return X[:, self.selected_features]\n",
    "\n",
    "    def fit_transform(self, X, y):\n",
    "        return self.fit(X, y).transform(X)\n",
    "\n",
    "# Example usage:\n",
    "# Ensure y is integer for classification\n",
    "y = target_data['Fault'].values.astype(int)\n",
    "X = input_data.values\n",
    "mifs_selector = MIFS_Selector(n_features_to_select=10, beta=0.7, problem_type='classification')\n",
    "X_selected = mifs_selector.fit_transform(X, y)\n",
    "print(\"Selected features:\", mifs_selector.selected_features)"
   ]
  },
  {
   "cell_type": "code",
   "execution_count": null,
   "metadata": {},
   "outputs": [
    {
     "name": "stdout",
     "output_type": "stream",
     "text": [
      "mRMR selected features: [10, 98, 129, 39, 102, 34, 41, 121, 99, 126]\n"
     ]
    }
   ],
   "source": [
    "\n",
    "class mRMR_Selector(FeatureSelector):\n",
    "    def __init__(self, n_features_to_select, problem_type='classification'):\n",
    "        super().__init__(n_features_to_select)\n",
    "        self.problem_type = problem_type\n",
    "\n",
    "    def fit(self, X, y):\n",
    "        n_samples, n_features = X.shape\n",
    "        if self.n_features_to_select is None:\n",
    "            self.n_features_to_select = n_features // 2\n",
    "\n",
    "        # Calculate MI between each feature and target\n",
    "        if self.problem_type == 'classification':\n",
    "            mi_fc = mutual_info_classif(X, y)\n",
    "        else:\n",
    "            mi_fc = mutual_info_regression(X, y)\n",
    "\n",
    "        # Start with the feature having highest relevance\n",
    "        selected = [int(np.argmax(mi_fc))]\n",
    "        remaining = [i for i in range(n_features) if i not in selected]\n",
    "\n",
    "        while len(selected) < self.n_features_to_select:\n",
    "            scores = np.zeros(len(remaining), dtype=float)\n",
    "\n",
    "            for idx, feat in enumerate(remaining):\n",
    "                # compute total redundancy wrt already selected features\n",
    "                mi_fs = 0.0\n",
    "                for s in selected:\n",
    "                    # ALWAYS use regression MI for feature–feature\n",
    "                    mi_arr = mutual_info_regression(\n",
    "                        X[:, feat].reshape(-1, 1),\n",
    "                        X[:, s]\n",
    "                    )\n",
    "                    mi_fs += float(mi_arr[0])\n",
    "\n",
    "                # mRMR score = relevance − (1/|S|)*redundancy\n",
    "                beta = 1.0 / len(selected)\n",
    "                scores[idx] = mi_fc[feat] - beta * mi_fs\n",
    "\n",
    "            # pick the feature with highest mRMR score\n",
    "            next_feat = remaining[int(np.argmax(scores))]\n",
    "            selected.append(next_feat)\n",
    "            remaining.remove(next_feat)\n",
    "\n",
    "        self.selected_features = selected\n",
    "        return self\n",
    "\n",
    "    def transform(self, X):\n",
    "        return X[:, self.selected_features]\n",
    "\n",
    "    def fit_transform(self, X, y):\n",
    "        return self.fit(X, y).transform(X)\n",
    "\n",
    "# Usage example:\n",
    "# y = target_data['Fault'].values.astype(int)\n",
    "mrmr = mRMR_Selector(n_features_to_select=10, problem_type='classification')\n",
    "X_mrmr = mrmr.fit_transform(X, y)\n",
    "print(\"mRMR selected features:\", mrmr.selected_features)\n"
   ]
  },
  {
   "cell_type": "code",
   "execution_count": null,
   "metadata": {},
   "outputs": [
    {
     "name": "stdout",
     "output_type": "stream",
     "text": [
      "BD selected features: [10, 44, 121, 43, 34, 23, 118, 65, 62, 126]\n"
     ]
    }
   ],
   "source": [
    "class BD_Selector(FeatureSelector):\n",
    "    def __init__(self, n_features_to_select):\n",
    "        super().__init__(n_features_to_select)\n",
    "        self.epsilon = 1e-6  # regularization term to avoid singular matrices\n",
    "\n",
    "    def _bhattacharyya_distance(self, X1, X2):\n",
    "        \"\"\"Calculate Bhattacharyya distance between two classes\"\"\"\n",
    "        mean1, mean2 = np.mean(X1, axis=0), np.mean(X2, axis=0)\n",
    "        cov1 = np.cov(X1.T) + self.epsilon * np.eye(X1.shape[1])\n",
    "        cov2 = np.cov(X2.T) + self.epsilon * np.eye(X2.shape[1])\n",
    "\n",
    "        mean_diff = mean1 - mean2\n",
    "        mean_cov = (cov1 + cov2) / 2\n",
    "\n",
    "        # Calculate the first term using pseudo-inverse\n",
    "        inv_mean_cov = np.linalg.pinv(mean_cov)\n",
    "        term1 = 0.125 * mean_diff @ inv_mean_cov @ mean_diff.T\n",
    "\n",
    "        # Calculate the second term\n",
    "        det1 = np.linalg.det(cov1)\n",
    "        det2 = np.linalg.det(cov2)\n",
    "        det_mean = np.linalg.det(mean_cov)\n",
    "        # ensure positive determinants\n",
    "        det1 = max(det1, self.epsilon)\n",
    "        det2 = max(det2, self.epsilon)\n",
    "        det_mean = max(det_mean, self.epsilon)\n",
    "        term2 = 0.5 * np.log(det_mean / np.sqrt(det1 * det2))\n",
    "\n",
    "        return term1 + term2\n",
    "\n",
    "    def fit(self, X, y):\n",
    "        n_samples, n_features = X.shape\n",
    "        if self.n_features_to_select is None:\n",
    "            self.n_features_to_select = n_features // 2\n",
    "\n",
    "        # Convert continuous target to discrete bins for BD calculation\n",
    "        if len(np.unique(y)) > 10:\n",
    "            y_binned = pd.cut(y, bins=5, labels=False)\n",
    "        else:\n",
    "            y_binned = y\n",
    "\n",
    "        unique_classes = np.unique(y_binned)\n",
    "        if len(unique_classes) < 2:\n",
    "            raise ValueError(\"Need at least two classes for BD calculation\")\n",
    "\n",
    "        # Calculate pairwise BD for all features\n",
    "        bd_matrix = np.zeros((n_features, n_features))\n",
    "        for i in range(n_features):\n",
    "            for j in range(i+1, n_features):\n",
    "                bd_sum = 0.0\n",
    "                for idx1, c1 in enumerate(unique_classes):\n",
    "                    for c2 in unique_classes[idx1+1:]:\n",
    "                        X1 = X[y_binned == c1][:, [i, j]]\n",
    "                        X2 = X[y_binned == c2][:, [i, j]]\n",
    "                        if X1.shape[0] > 1 and X2.shape[0] > 1:\n",
    "                            bd_sum += self._bhattacharyya_distance(X1, X2)\n",
    "                bd_matrix[i, j] = bd_sum\n",
    "                bd_matrix[j, i] = bd_sum\n",
    "\n",
    "        # Calculate mean BD for each feature\n",
    "        mean_bd = np.mean(bd_matrix + bd_matrix.T, axis=1) / 2\n",
    "\n",
    "        # Select features with highest mean BD\n",
    "        self.selected_features = list(np.argsort(mean_bd)[-self.n_features_to_select:][::-1])\n",
    "        return self\n",
    "\n",
    "    def transform(self, X):\n",
    "        return X[:, self.selected_features]\n",
    "\n",
    "    def fit_transform(self, X, y):\n",
    "        return self.fit(X, y).transform(X)\n",
    "\n",
    "# Usage:\n",
    "bd_selector = BD_Selector(n_features_to_select=10)\n",
    "X_bd = bd_selector.fit_transform(X, y)\n",
    "print(\"BD selected features:\", bd_selector.selected_features)"
   ]
  },
  {
   "cell_type": "markdown",
   "metadata": {},
   "source": [
    "MODEL SELECTION"
   ]
  },
  {
   "cell_type": "code",
   "execution_count": null,
   "metadata": {},
   "outputs": [],
   "source": [
    "# ========== DDAG Trainer ==========\n",
    "def train_ddag_classifiers(X_train, y_train, kernel='rbf', C=1.0, gamma='scale'):\n",
    "    class_pairs = list(combinations(np.unique(y_train), 2))\n",
    "    classifiers = {}\n",
    "\n",
    "    for (class1, class2) in class_pairs:\n",
    "        idx = (y_train == class1) | (y_train == class2)\n",
    "        X_pair = X_train[idx]\n",
    "        y_pair = y_train[idx]\n",
    "        y_binary = (y_pair == class1).astype(int)\n",
    "\n",
    "        clf = svm.SVC(kernel=kernel, C=C, gamma=gamma)\n",
    "        clf.fit(X_pair, y_binary)\n",
    "        classifiers[(class1, class2)] = clf\n",
    "\n",
    "    return classifiers, sorted(np.unique(y_train))\n",
    "\n",
    "\n",
    "# ========== DDAG Prediction ==========\n",
    "def ddag_predict(X_test, classifiers, class_list):\n",
    "    y_pred = []\n",
    "\n",
    "    for x in X_test.to_numpy():\n",
    "        classes = class_list.copy()\n",
    "\n",
    "        while len(classes) > 1:\n",
    "            c1 = classes[0]\n",
    "            c2 = classes[-1]\n",
    "\n",
    "            key = (c1, c2) if (c1, c2) in classifiers else (c2, c1)\n",
    "            clf = classifiers[key]\n",
    "            pred = clf.predict(x.reshape(1, -1))[0]\n",
    "\n",
    "            if (c1, c2) in classifiers:\n",
    "                winner = c1 if pred == 1 else c2\n",
    "            else:\n",
    "                winner = c2 if pred == 1 else c1\n",
    "\n",
    "            classes.remove(c1 if winner == c2 else c2)\n",
    "\n",
    "        y_pred.append(classes[0])\n",
    "\n",
    "    return np.array(y_pred)\n",
    "\n",
    "\n",
    "# ========== TRAIN Function ==========\n",
    "def train_svm_classifier(X_train, y_train, kernel='rbf', C=1.0, gamma='scale', strategy='OAO'):\n",
    "    base_svm = svm.SVC(kernel=kernel, C=C, gamma=gamma, probability=True)\n",
    "\n",
    "    if strategy.upper() == 'OAO':\n",
    "        model = OneVsOneClassifier(base_svm)\n",
    "        model.fit(X_train, y_train.values.ravel())\n",
    "        return model\n",
    "\n",
    "    elif strategy.upper() == 'OAA':\n",
    "        model = OneVsRestClassifier(base_svm)\n",
    "        model.fit(X_train, y_train.values.ravel())\n",
    "        return model\n",
    "\n",
    "    elif strategy.upper() == 'DDAG':\n",
    "        classifiers, class_list = train_ddag_classifiers(X_train, y_train.values.ravel(), kernel, C, gamma)\n",
    "        return {\"classifiers\": classifiers, \"class_list\": class_list}\n",
    "\n",
    "    else:\n",
    "        raise ValueError(\"Invalid strategy. Use 'OAO', 'OAA', or 'DDAG'.\")\n",
    "\n",
    "\n",
    "# ========== PREDICT Function ==========\n",
    "def predict_svm_classifier(model, X_test, strategy='OAO'):\n",
    "    if strategy.upper() == 'DDAG':\n",
    "        y_pred = ddag_predict(X_test, model[\"classifiers\"], model[\"class_list\"])\n",
    "    else:\n",
    "        y_pred = model.predict(X_test)\n",
    "\n",
    "    return y_pred\n",
    "\n",
    "\n",
    "# ========== Optional: Evaluate ==========\n",
    "def evaluate_model(y_test, y_pred):\n",
    "    print(\"Accuracy:\", accuracy_score(y_test, y_pred))\n",
    "    print(\"Classification Report:\\n\", classification_report(y_test, y_pred))\n"
   ]
  },
  {
   "cell_type": "code",
   "execution_count": 46,
   "metadata": {},
   "outputs": [
    {
     "name": "stdout",
     "output_type": "stream",
     "text": [
      "Accuracy: 0.6666666666666666\n",
      "Classification Report:\n",
      "               precision    recall  f1-score   support\n",
      "\n",
      "           0       0.80      0.78      0.79        45\n",
      "           1       0.66      0.78      0.71        45\n",
      "           2       0.81      0.84      0.83        45\n",
      "           3       0.72      0.58      0.64        45\n",
      "           4       0.87      0.58      0.69        45\n",
      "           5       0.41      0.40      0.40        45\n",
      "           6       0.74      0.62      0.67        45\n",
      "           7       0.50      0.76      0.60        45\n",
      "\n",
      "    accuracy                           0.67       360\n",
      "   macro avg       0.69      0.67      0.67       360\n",
      "weighted avg       0.69      0.67      0.67       360\n",
      "\n"
     ]
    }
   ],
   "source": [
    "# Split data\n",
    "input_data = pd.DataFrame(X_mrmr)\n",
    "X_train, X_test, y_train, y_test = train_test_split(\n",
    "    input_data, target_data, test_size=0.2, random_state=42, stratify=target_data\n",
    ")\n",
    "\n",
    "# Train model\n",
    "strategy = 'DDAG'  # or 'OAO', 'OAA'\n",
    "model = train_svm_classifier(X_train, y_train, kernel='rbf', C=10, gamma='scale', strategy=strategy)\n",
    "\n",
    "# Predict\n",
    "y_pred = predict_svm_classifier(model, X_test, strategy=strategy)\n",
    "\n",
    "# Evaluate\n",
    "evaluate_model(y_test, y_pred)\n"
   ]
  },
  {
   "cell_type": "code",
   "execution_count": null,
   "metadata": {},
   "outputs": [
    {
     "data": {
      "image/png": "[encoded data removed]",
      "text/plain": [
       "<Figure size 800x600 with 2 Axes>"
      ]
     },
     "metadata": {},
     "output_type": "display_data"
    }
   ],
   "source": [
    "def plot_confusion_matrix(y_true, y_pred, class_names=None, normalize=False, title=\"Confusion Matrix\"):\n",
    "    \"\"\"\n",
    "    Plots a confusion matrix using seaborn heatmap.\n",
    "    \n",
    "    Parameters:\n",
    "        y_true (array-like): True labels\n",
    "        y_pred (array-like): Predicted labels\n",
    "        class_names (list): Optional list of class names\n",
    "        normalize (bool): If True, normalize the values\n",
    "        title (str): Title for the plot\n",
    "    \"\"\"\n",
    "    cm = confusion_matrix(y_true, y_pred)\n",
    "\n",
    "    if normalize:\n",
    "        cm = cm.astype('float') / cm.sum(axis=1, keepdims=True)\n",
    "\n",
    "    plt.figure(figsize=(8, 6))\n",
    "    sns.heatmap(cm, annot=True, fmt='.2f' if normalize else 'd',\n",
    "                xticklabels=class_names, yticklabels=class_names,\n",
    "                cmap='Blues', linewidths=0.5, square=True)\n",
    "\n",
    "    plt.xlabel(\"Predicted Label\")\n",
    "    plt.ylabel(\"True Label\")\n",
    "    plt.title(title + (\" (Normalized)\" if normalize else \"\"))\n",
    "    plt.tight_layout()\n",
    "    plt.show()\n",
    "\n",
    "# Predict using your trained model\n",
    "y_pred = predict_svm_classifier(model, X_test, strategy=strategy)\n",
    "\n",
    "# Fault class names in order\n",
    "class_names = ['Bearing', 'Flywheel', 'Healthy', 'LIV', 'LOV', 'NRV', 'Piston', 'Riderbelt']\n",
    "\n",
    "# Plot the confusion matrix\n",
    "plot_confusion_matrix(y_test, y_pred, class_names=class_names, normalize=False)\n"
   ]
  },
  {
   "cell_type": "code",
   "execution_count": null,
   "metadata": {},
   "outputs": [
    {
     "name": "stdout",
     "output_type": "stream",
     "text": [
      "Fitting 5 folds for each of 225 candidates, totalling 1125 fits\n",
      "Best Parameters: {'C': 0.5, 'gamma': 0.0009765625}\n",
      "Best Accuracy: 0.6354166666666666\n"
     ]
    }
   ],
   "source": [
    "# Define the parameter grid using powers of 2\n",
    "C_range = [2**i for i in range(-2, 13)]         # from 2^-2 to 2^12\n",
    "gamma_range = [2**i for i in range(-10, 5)]     # from 2^-10 to 2^4\n",
    "\n",
    "param_grid = {'C': C_range, 'gamma': gamma_range}\n",
    "\n",
    "# Create SVM with RBF kernel\n",
    "svm_rbf = SVC(kernel='rbf')\n",
    "\n",
    "# Grid search with 5-fold cross-validation\n",
    "grid_search = GridSearchCV(svm_rbf, param_grid, cv=5, scoring='accuracy', verbose=1, n_jobs=-1)\n",
    "\n",
    "# Fit to training data\n",
    "grid_search.fit(X_train, y_train.values.ravel())\n",
    "\n",
    "# Best parameters\n",
    "print(\"Best Parameters:\", grid_search.best_params_)\n",
    "print(\"Best Accuracy:\", grid_search.best_score_)"
   ]
  }
 ],
 "metadata": {
  "kernelspec": {
   "display_name": "Python 3",
   "language": "python",
   "name": "python3"
  },
  "language_info": {
   "codemirror_mode": {
    "name": "ipython",
    "version": 3
   },
   "file_extension": ".py",
   "mimetype": "text/x-python",
   "name": "python",
   "nbconvert_exporter": "python",
   "pygments_lexer": "ipython3",
   "version": "3.10.6"
  }
 },
 "nbformat": 4,
 "nbformat_minor": 2
}
